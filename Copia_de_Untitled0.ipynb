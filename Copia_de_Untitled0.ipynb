{
  "nbformat": 4,
  "nbformat_minor": 0,
  "metadata": {
    "colab": {
      "name": "Copia de Untitled0.ipynb",
      "provenance": [],
      "collapsed_sections": [],
      "authorship_tag": "ABX9TyNGu878O4lXkJ1LTbfn3rIC",
      "include_colab_link": true
    },
    "kernelspec": {
      "name": "python3",
      "display_name": "Python 3"
    }
  },
  "cells": [
    {
      "cell_type": "markdown",
      "metadata": {
        "id": "view-in-github",
        "colab_type": "text"
      },
      "source": [
        "<a href=\"https://colab.research.google.com/github/Rossember555/CFDPython/blob/master/Copia_de_Untitled0.ipynb\" target=\"_parent\"><img src=\"https://colab.research.google.com/assets/colab-badge.svg\" alt=\"Open In Colab\"/></a>"
      ]
    },
    {
      "cell_type": "code",
      "metadata": {
        "id": "vie4699dqoKr",
        "colab_type": "code",
        "outputId": "18d27e90-adf1-482e-ae4a-913b9ed4b55d",
        "colab": {
          "base_uri": "https://localhost:8080/",
          "height": 35
        }
      },
      "source": [
        "nums = [1, 2, 3, 4, 5, 6, 7, 8, 9, 10]\n",
        "accum = 0\n",
        "for w in nums:\n",
        "    accum = accum + w\n",
        "print(accum)\n"
      ],
      "execution_count": 0,
      "outputs": [
        {
          "output_type": "stream",
          "text": [
            "55\n"
          ],
          "name": "stdout"
        }
      ]
    },
    {
      "cell_type": "code",
      "metadata": {
        "id": "9UhpEEPYqqiD",
        "colab_type": "code",
        "outputId": "40eb3efc-dda7-477f-e857-5edec00c0780",
        "colab": {
          "base_uri": "https://localhost:8080/",
          "height": 53
        }
      },
      "source": [
        "accum = 0\n",
        "for w in range(11):\n",
        "    accum = accum + w\n",
        "print(accum)\n",
        "\n",
        "# or, if you use two inputs for the range function\n",
        "\n",
        "sec_accum = 0\n",
        "for w in range(1,11):\n",
        "    sec_accum = sec_accum + w\n",
        "print(sec_accum)"
      ],
      "execution_count": 0,
      "outputs": [
        {
          "output_type": "stream",
          "text": [
            "55\n",
            "55\n"
          ],
          "name": "stdout"
        }
      ]
    },
    {
      "cell_type": "code",
      "metadata": {
        "id": "qfYX1iuP-l_6",
        "colab_type": "code",
        "outputId": "6a5b53e6-e1f9-49bd-f271-11262e1063b4",
        "colab": {
          "base_uri": "https://localhost:8080/",
          "height": 978
        }
      },
      "source": [
        "numbers = list(range(0,53))\n",
        "numbers"
      ],
      "execution_count": 0,
      "outputs": [
        {
          "output_type": "execute_result",
          "data": {
            "text/plain": [
              "[0,\n",
              " 1,\n",
              " 2,\n",
              " 3,\n",
              " 4,\n",
              " 5,\n",
              " 6,\n",
              " 7,\n",
              " 8,\n",
              " 9,\n",
              " 10,\n",
              " 11,\n",
              " 12,\n",
              " 13,\n",
              " 14,\n",
              " 15,\n",
              " 16,\n",
              " 17,\n",
              " 18,\n",
              " 19,\n",
              " 20,\n",
              " 21,\n",
              " 22,\n",
              " 23,\n",
              " 24,\n",
              " 25,\n",
              " 26,\n",
              " 27,\n",
              " 28,\n",
              " 29,\n",
              " 30,\n",
              " 31,\n",
              " 32,\n",
              " 33,\n",
              " 34,\n",
              " 35,\n",
              " 36,\n",
              " 37,\n",
              " 38,\n",
              " 39,\n",
              " 40,\n",
              " 41,\n",
              " 42,\n",
              " 43,\n",
              " 44,\n",
              " 45,\n",
              " 46,\n",
              " 47,\n",
              " 48,\n",
              " 49,\n",
              " 50,\n",
              " 51,\n",
              " 52]"
            ]
          },
          "metadata": {
            "tags": []
          },
          "execution_count": 3
        }
      ]
    },
    {
      "cell_type": "code",
      "metadata": {
        "id": "gNoH_MIPAW4v",
        "colab_type": "code",
        "outputId": "e34787a4-26a6-4889-f415-ebb0b619b56e",
        "colab": {
          "base_uri": "https://localhost:8080/",
          "height": 35
        }
      },
      "source": [
        "numbers = list(range(0,41))\n",
        "sum1 = 0\n",
        "for w in numbers:\n",
        "    sum1 = sum1 + w\n",
        "print(sum1)"
      ],
      "execution_count": 0,
      "outputs": [
        {
          "output_type": "stream",
          "text": [
            "820\n"
          ],
          "name": "stdout"
        }
      ]
    },
    {
      "cell_type": "code",
      "metadata": {
        "id": "DTSyB447Bd4G",
        "colab_type": "code",
        "outputId": "2f2df7a4-5e92-48aa-b30a-e7cf0609b3b7",
        "colab": {
          "base_uri": "https://localhost:8080/",
          "height": 108
        }
      },
      "source": [
        "fruits = ['apple', 'pear', 'apricot', 'cherry', 'peach']\n",
        "for n in range(5):\n",
        "    print(n, fruits[n])\n"
      ],
      "execution_count": 0,
      "outputs": [
        {
          "output_type": "stream",
          "text": [
            "0 apple\n",
            "1 pear\n",
            "2 apricot\n",
            "3 cherry\n",
            "4 peach\n"
          ],
          "name": "stdout"
        }
      ]
    },
    {
      "cell_type": "code",
      "metadata": {
        "id": "5crC7vmBBozQ",
        "colab_type": "code",
        "outputId": "fbb6ff63-0146-4483-f2cf-728c774ed520",
        "colab": {
          "base_uri": "https://localhost:8080/",
          "height": 108
        }
      },
      "source": [
        "fruits = ['apple', 'pear', 'apricot', 'cherry', 'peach']\n",
        "for n in range(len(fruits)):\n",
        "    print(n, fruits[n])\n"
      ],
      "execution_count": 0,
      "outputs": [
        {
          "output_type": "stream",
          "text": [
            "0 apple\n",
            "1 pear\n",
            "2 apricot\n",
            "3 cherry\n",
            "4 peach\n"
          ],
          "name": "stdout"
        }
      ]
    },
    {
      "cell_type": "code",
      "metadata": {
        "id": "W3eqoBrsC8Yt",
        "colab_type": "code",
        "outputId": "13666b9d-620f-4108-bbed-8425cb62205f",
        "colab": {
          "base_uri": "https://localhost:8080/",
          "height": 289
        }
      },
      "source": [
        "for i in range(5):\n",
        "    for j in range(3):\n",
        "        print(i, j)\n",
        "\n"
      ],
      "execution_count": 0,
      "outputs": [
        {
          "output_type": "stream",
          "text": [
            "0 0\n",
            "0 1\n",
            "0 2\n",
            "1 0\n",
            "1 1\n",
            "1 2\n",
            "2 0\n",
            "2 1\n",
            "2 2\n",
            "3 0\n",
            "3 1\n",
            "3 2\n",
            "4 0\n",
            "4 1\n",
            "4 2\n"
          ],
          "name": "stdout"
        }
      ]
    },
    {
      "cell_type": "code",
      "metadata": {
        "id": "OnT_RrEODE-M",
        "colab_type": "code",
        "outputId": "f51ff738-0e03-49e9-801d-372d03459f7d",
        "colab": {
          "base_uri": "https://localhost:8080/",
          "height": 90
        }
      },
      "source": [
        "x = \"Hola\"\n",
        "for y in x:\n",
        "  w = x\n",
        "  print(w)"
      ],
      "execution_count": 0,
      "outputs": [
        {
          "output_type": "stream",
          "text": [
            "Hola\n",
            "Hola\n",
            "Hola\n",
            "Hola\n"
          ],
          "name": "stdout"
        }
      ]
    },
    {
      "cell_type": "code",
      "metadata": {
        "id": "5MUP_9Y9JIpo",
        "colab_type": "code",
        "outputId": "1d1c5372-6672-4605-8822-28e8692f7ad4",
        "colab": {
          "base_uri": "https://localhost:8080/",
          "height": 35
        }
      },
      "source": [
        "w = range(10)\n",
        "\n",
        "tot = 0\n",
        "for num in w:\n",
        "    tot += num\n",
        "print(tot)\n",
        "\n"
      ],
      "execution_count": 0,
      "outputs": [
        {
          "output_type": "stream",
          "text": [
            "45\n"
          ],
          "name": "stdout"
        }
      ]
    },
    {
      "cell_type": "code",
      "metadata": {
        "id": "9x8ijO45JItE",
        "colab_type": "code",
        "outputId": "324c5eda-6a7d-41b1-97e9-0cb8c206e327",
        "colab": {
          "base_uri": "https://localhost:8080/",
          "height": 217
        }
      },
      "source": [
        "w = range(10)\n",
        "\n",
        "tot = 0\n",
        "for num in w:\n",
        "    print(num)\n",
        "    tot += num\n",
        "print(tot)\n"
      ],
      "execution_count": 0,
      "outputs": [
        {
          "output_type": "stream",
          "text": [
            "0\n",
            "1\n",
            "2\n",
            "3\n",
            "4\n",
            "5\n",
            "6\n",
            "7\n",
            "8\n",
            "9\n",
            "45\n"
          ],
          "name": "stdout"
        }
      ]
    },
    {
      "cell_type": "code",
      "metadata": {
        "id": "tuvjuZi0JIwa",
        "colab_type": "code",
        "outputId": "b402f58e-4c68-46b9-cc84-4263cf18d9b9",
        "colab": {
          "base_uri": "https://localhost:8080/",
          "height": 35
        }
      },
      "source": [
        "addition_str = \"2+5+10+20\"\n",
        "\n",
        "sum_value = 0\n",
        "d = addition_str.split(\"+\")\n",
        "for v in d:\n",
        "  a = int(v)\n",
        "  sum_value += a\n",
        "print(sum_value)\n",
        "\n"
      ],
      "execution_count": 0,
      "outputs": [
        {
          "output_type": "stream",
          "text": [
            "37\n"
          ],
          "name": "stdout"
        }
      ]
    },
    {
      "cell_type": "code",
      "metadata": {
        "id": "tvHoSfi5PbIs",
        "colab_type": "code",
        "outputId": "5ae0da0e-e229-43ce-81b4-70014b743eb4",
        "colab": {
          "base_uri": "https://localhost:8080/",
          "height": 35
        }
      },
      "source": [
        "week_temps_f = \"75.1,77.7,83.2,82.5,81.0,79.5,85.7\"\n",
        "\n",
        "week = 0\n",
        "d = week_temps_f.split(\",\")\n",
        "for v in d:\n",
        "  a = float(v)\n",
        "  week += a\n",
        "  avg_temp = week / len(d)\n",
        "print(avg_temp) \n",
        "\n",
        "\n",
        "\n"
      ],
      "execution_count": 0,
      "outputs": [
        {
          "output_type": "stream",
          "text": [
            "80.67142857142858\n"
          ],
          "name": "stdout"
        }
      ]
    },
    {
      "cell_type": "code",
      "metadata": {
        "id": "1vNiwc_ORBEv",
        "colab_type": "code",
        "outputId": "b0ac673c-7b26-4293-ea7b-98eb461faa66",
        "colab": {
          "base_uri": "https://localhost:8080/",
          "height": 35
        }
      },
      "source": [
        "len(d)"
      ],
      "execution_count": 0,
      "outputs": [
        {
          "output_type": "execute_result",
          "data": {
            "text/plain": [
              "7"
            ]
          },
          "metadata": {
            "tags": []
          },
          "execution_count": 37
        }
      ]
    },
    {
      "cell_type": "code",
      "metadata": {
        "id": "rQfhinRmTvuh",
        "colab_type": "code",
        "outputId": "28c9fefb-f51e-4f75-b075-b1853ea29a06",
        "colab": {
          "base_uri": "https://localhost:8080/",
          "height": 35
        }
      },
      "source": [
        "week"
      ],
      "execution_count": 0,
      "outputs": [
        {
          "output_type": "execute_result",
          "data": {
            "text/plain": [
              "564.7"
            ]
          },
          "metadata": {
            "tags": []
          },
          "execution_count": 38
        }
      ]
    },
    {
      "cell_type": "code",
      "metadata": {
        "id": "wbZDxLzmT1Gn",
        "colab_type": "code",
        "outputId": "37aab422-9896-4370-bc62-3eb4ca9cde32",
        "colab": {
          "base_uri": "https://localhost:8080/",
          "height": 198
        }
      },
      "source": [
        "original_str = \"The quick brown rhino jumped over the extremely lazy fox\"\n",
        "n = original_str.split(\" \")\n",
        "for v in n:\n",
        "  print(len(v))\n",
        "\n"
      ],
      "execution_count": 0,
      "outputs": [
        {
          "output_type": "stream",
          "text": [
            "3\n",
            "5\n",
            "5\n",
            "5\n",
            "6\n",
            "4\n",
            "3\n",
            "9\n",
            "4\n",
            "3\n"
          ],
          "name": "stdout"
        }
      ]
    },
    {
      "cell_type": "code",
      "metadata": {
        "id": "3tr83cI1Ukco",
        "colab_type": "code",
        "outputId": "babf3716-4e2d-45fb-b61b-e67c837950ee",
        "colab": {
          "base_uri": "https://localhost:8080/",
          "height": 35
        }
      },
      "source": [
        "original_str = \"The quick brown rhino jumped over the extremely lazy fox\"\n",
        "\n",
        "original_list = list(original_str.split())\n",
        "num_words = len(original_list)\n",
        "num_words_list = []\n",
        "for i in original_list:\n",
        "    num_words_list.append((len(i)))\n",
        "\n",
        "print(num_words_list)"
      ],
      "execution_count": 0,
      "outputs": [
        {
          "output_type": "stream",
          "text": [
            "[3, 5, 5, 5, 6, 4, 3, 9, 4, 3]\n"
          ],
          "name": "stdout"
        }
      ]
    },
    {
      "cell_type": "code",
      "metadata": {
        "id": "5CN157OqGp_b",
        "colab_type": "code",
        "outputId": "fd0a8785-16a1-4d6e-f7cf-85d0abb1ba43",
        "colab": {
          "base_uri": "https://localhost:8080/",
          "height": 35
        }
      },
      "source": [
        "b = [3,5,6]\n",
        "3 in b"
      ],
      "execution_count": 0,
      "outputs": [
        {
          "output_type": "execute_result",
          "data": {
            "text/plain": [
              "True"
            ]
          },
          "metadata": {
            "tags": []
          },
          "execution_count": 51
        }
      ]
    },
    {
      "cell_type": "code",
      "metadata": {
        "id": "XpsR8cpoHHku",
        "colab_type": "code",
        "outputId": "9b447d6f-8be1-4c34-d21d-98f4f8b20a1f",
        "colab": {
          "base_uri": "https://localhost:8080/",
          "height": 35
        }
      },
      "source": [
        "3==4"
      ],
      "execution_count": 0,
      "outputs": [
        {
          "output_type": "execute_result",
          "data": {
            "text/plain": [
              "False"
            ]
          },
          "metadata": {
            "tags": []
          },
          "execution_count": 52
        }
      ]
    },
    {
      "cell_type": "code",
      "metadata": {
        "id": "AZEszVxAeKoB",
        "colab_type": "code",
        "outputId": "42320ac2-bcef-4f44-dc56-ecde3bbadc69",
        "colab": {
          "base_uri": "https://localhost:8080/",
          "height": 35
        }
      },
      "source": [
        "2>3 and -4<0"
      ],
      "execution_count": 0,
      "outputs": [
        {
          "output_type": "execute_result",
          "data": {
            "text/plain": [
              "False"
            ]
          },
          "metadata": {
            "tags": []
          },
          "execution_count": 53
        }
      ]
    },
    {
      "cell_type": "code",
      "metadata": {
        "id": "NqOkQCF8e-w8",
        "colab_type": "code",
        "outputId": "fef9c16a-ecf6-441c-f681-a101a0fda27d",
        "colab": {
          "base_uri": "https://localhost:8080/",
          "height": 72
        }
      },
      "source": [
        "l = [\"Matemáticas\",\"Español\",\"Sociales\"]\n",
        "for i in l:\n",
        "  print(\"Yo estudie\", i)"
      ],
      "execution_count": 0,
      "outputs": [
        {
          "output_type": "stream",
          "text": [
            "Yo estudie Matemáticas\n",
            "Yo estudie Español\n",
            "Yo estudie Sociales\n"
          ],
          "name": "stdout"
        }
      ]
    },
    {
      "cell_type": "code",
      "metadata": {
        "id": "JUeK60JDgE7D",
        "colab_type": "code",
        "outputId": "07adaf2c-8341-4167-8a40-139cc7c1ad0c",
        "colab": {
          "base_uri": "https://localhost:8080/",
          "height": 35
        }
      },
      "source": [
        "x not in \"rossember\""
      ],
      "execution_count": 0,
      "outputs": [
        {
          "output_type": "execute_result",
          "data": {
            "text/plain": [
              "True"
            ]
          },
          "metadata": {
            "tags": []
          },
          "execution_count": 55
        }
      ]
    },
    {
      "cell_type": "code",
      "metadata": {
        "id": "OkeXAv26hXdT",
        "colab_type": "code",
        "outputId": "f884163a-23f1-49e5-ca02-7ac8151c23ba",
        "colab": {
          "base_uri": "https://localhost:8080/",
          "height": 271
        }
      },
      "source": [
        "\n",
        "\n",
        "x = 16\n",
        "for i in range(1,15):\n",
        "  if x % i == 0:\n",
        "    print(x, \"es divisible por \", str(i))\n",
        "  else:\n",
        "    print(x, \"no es divisible por \", str(i))\n"
      ],
      "execution_count": 0,
      "outputs": [
        {
          "output_type": "stream",
          "text": [
            "16 es divisible por  1\n",
            "16 es divisible por  2\n",
            "16 no es divisible por  3\n",
            "16 es divisible por  4\n",
            "16 no es divisible por  5\n",
            "16 no es divisible por  6\n",
            "16 no es divisible por  7\n",
            "16 es divisible por  8\n",
            "16 no es divisible por  9\n",
            "16 no es divisible por  10\n",
            "16 no es divisible por  11\n",
            "16 no es divisible por  12\n",
            "16 no es divisible por  13\n",
            "16 no es divisible por  14\n"
          ],
          "name": "stdout"
        }
      ]
    },
    {
      "cell_type": "code",
      "metadata": {
        "id": "xIN8NBaFmkXf",
        "colab_type": "code",
        "outputId": "dffdca47-408a-4047-cfbd-ada528868544",
        "colab": {
          "base_uri": "https://localhost:8080/",
          "height": 35
        }
      },
      "source": [
        "a=19\n",
        "b=15\n",
        "if b>a:\n",
        "  print(a*2)\n",
        "else:\n",
        "  print(a)\n"
      ],
      "execution_count": 0,
      "outputs": [
        {
          "output_type": "stream",
          "text": [
            "19\n"
          ],
          "name": "stdout"
        }
      ]
    },
    {
      "cell_type": "code",
      "metadata": {
        "id": "WUAYXvxqvpPv",
        "colab_type": "code",
        "outputId": "525c915d-0957-4664-d6b6-4dc862551eda",
        "colab": {
          "base_uri": "https://localhost:8080/",
          "height": 35
        }
      },
      "source": [
        "x = -10\n",
        "if x < 0:\n",
        "    print(\"The negative number \",  x, \" is not valid here.\")\n",
        "else:\n",
        "    print(x, \" is a positive number\")\n"
      ],
      "execution_count": 0,
      "outputs": [
        {
          "output_type": "stream",
          "text": [
            "The negative number  -10  is not valid here.\n"
          ],
          "name": "stdout"
        }
      ]
    },
    {
      "cell_type": "code",
      "metadata": {
        "id": "Kln983UJv2ih",
        "colab_type": "code",
        "outputId": "4920f3b5-8b62-4b0a-ab47-51a13ed48748",
        "colab": {
          "base_uri": "https://localhost:8080/",
          "height": 35
        }
      },
      "source": [
        "x = 10\n",
        "y = 10\n",
        "\n",
        "if x < y:\n",
        "    print(\"x is less than y\")\n",
        "else:\n",
        "    if x > y:\n",
        "        print(\"x is greater than y\")\n",
        "    else:\n",
        "        print(\"x and y must be equal\")\n"
      ],
      "execution_count": 0,
      "outputs": [
        {
          "output_type": "stream",
          "text": [
            "x and y must be equal\n"
          ],
          "name": "stdout"
        }
      ]
    },
    {
      "cell_type": "code",
      "metadata": {
        "id": "dtkRbstzv_sK",
        "colab_type": "code",
        "colab": {}
      },
      "source": [
        "str1 = \"Today you are you! That is truer than true! There is no one alive who is you-er than you!\"\n",
        "\n",
        "if \"false\" in str1:\n",
        "    output = \"False. You aren’t you?\"\n",
        "elif \"true\" in str1:\n",
        "    output = \"True! You are you!\"\n",
        "else:\n",
        "    output = \"Neither true nor false!\"\n"
      ],
      "execution_count": 0,
      "outputs": []
    },
    {
      "cell_type": "code",
      "metadata": {
        "id": "v58xyPkHAF5J",
        "colab_type": "code",
        "outputId": "36145a15-484b-4397-a56f-641301df1770",
        "colab": {
          "base_uri": "https://localhost:8080/",
          "height": 35
        }
      },
      "source": [
        "# Contar el número de letras de un stri\n",
        "frase = \"Hola      Mundo\"\n",
        "tot=0\n",
        "for i in frase:\n",
        "  if i != \" \":\n",
        "    tot = tot + 1\n",
        "print(tot)"
      ],
      "execution_count": 0,
      "outputs": [
        {
          "output_type": "stream",
          "text": [
            "9\n"
          ],
          "name": "stdout"
        }
      ]
    },
    {
      "cell_type": "code",
      "metadata": {
        "id": "xOy4PxSaAavm",
        "colab_type": "code",
        "outputId": "59a8aa23-08d5-4ac9-ce28-742cbd75a588",
        "colab": {
          "base_uri": "https://localhost:8080/",
          "height": 35
        }
      },
      "source": [
        "#Contar el numero de vocales de una frase\n",
        "fras1 = \"Caracteristivas Universales\"\n",
        "tot = 0\n",
        "for i in fras1:\n",
        "  if i in [\"a\",\"e\",\"i\", \"o\", \"u\"]:\n",
        "    tot +=1\n",
        "print(tot)\n"
      ],
      "execution_count": 0,
      "outputs": [
        {
          "output_type": "stream",
          "text": [
            "10\n"
          ],
          "name": "stdout"
        }
      ]
    },
    {
      "cell_type": "code",
      "metadata": {
        "id": "orhThpxLBHb7",
        "colab_type": "code",
        "outputId": "29df5d92-348e-4916-a9a0-943f43d9cdc1",
        "colab": {
          "base_uri": "https://localhost:8080/",
          "height": 35
        }
      },
      "source": [
        "# Programa para determinar el número más grande de una lista\n",
        "nums = [9,3,5,200,8,10]\n",
        "best = nums[1]\n",
        "for n in nums:\n",
        "  if n > best:\n",
        "    best = n\n",
        "print(best)"
      ],
      "execution_count": 0,
      "outputs": [
        {
          "output_type": "stream",
          "text": [
            "200\n"
          ],
          "name": "stdout"
        }
      ]
    },
    {
      "cell_type": "code",
      "metadata": {
        "id": "fvDvVyUgEd7j",
        "colab_type": "code",
        "colab": {}
      },
      "source": [
        "words = [\"water\", \"chair\", \"pen\", \"basket\", \"hi\", \"car\"]\n",
        "\n",
        "num_words = 0\n",
        "for i in words:\n",
        "    if len(i) > 3:\n",
        "        num_words += 1\n"
      ],
      "execution_count": 0,
      "outputs": []
    },
    {
      "cell_type": "code",
      "metadata": {
        "id": "wgqWvvqMKSU_",
        "colab_type": "code",
        "colab": {}
      },
      "source": [
        "#Modificar una lista: Cambiar verbos\n",
        "words = [\"adopt\", \"bake\", \"beam\", \"confide\", \"grill\", \"plant\", \"time\", \"wave\", \"wish\"]\n",
        "\n",
        "past_tense = []\n",
        "for i in words:\n",
        "    if(i[len(i)-1] == 'e'):\n",
        "        i += 'd'\n",
        "    else:\n",
        "        i += 'ed'\n",
        "    past_tense.append(i)"
      ],
      "execution_count": 0,
      "outputs": []
    },
    {
      "cell_type": "code",
      "metadata": {
        "id": "HyQoIs_SLe3o",
        "colab_type": "code",
        "outputId": "8a235b2b-3117-43a0-d159-7c5274f37047",
        "colab": {
          "base_uri": "https://localhost:8080/",
          "height": 35
        }
      },
      "source": [
        "print(past_tense)"
      ],
      "execution_count": 0,
      "outputs": [
        {
          "output_type": "stream",
          "text": [
            "['adopted', 'baked', 'beamed', 'confided', 'grilled', 'planted', 'timed', 'waved', 'wished']\n"
          ],
          "name": "stdout"
        }
      ]
    },
    {
      "cell_type": "code",
      "metadata": {
        "id": "sCbc4rz9LiyQ",
        "colab_type": "code",
        "colab": {}
      },
      "source": [
        ""
      ],
      "execution_count": 0,
      "outputs": []
    }
  ]
}